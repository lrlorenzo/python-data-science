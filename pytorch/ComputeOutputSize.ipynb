{
 "cells": [
  {
   "cell_type": "markdown",
   "metadata": {},
   "source": [
    "# Computes the output"
   ]
  },
  {
   "cell_type": "code",
   "execution_count": 8,
   "metadata": {},
   "outputs": [],
   "source": [
    "import json"
   ]
  },
  {
   "cell_type": "code",
   "execution_count": 9,
   "metadata": {},
   "outputs": [],
   "source": [
    "def get_output_size(input_size, models):\n",
    "    \"\"\"Computes the output size which will be used to compute the size of the FCN from the conv2d.\n",
    "\n",
    "    Keyword arguments:\n",
    "    input_size -- the height or width\n",
    "    models -- a json string\n",
    "      type -- \"conv2d\" or \"maxpool2d\"\n",
    "      kernel_size -- kernel_size\n",
    "      padding -- padding\n",
    "      dilation -- dilation\n",
    "      stide -- stride\n",
    "    \"\"\"\n",
    "    for i, m in enumerate(models):\n",
    "        kernel_size = m['kernel_size']\n",
    "        padding = m.get('padding', 0)\n",
    "        dilation = m.get('dilation', 1)\n",
    "        \n",
    "        if m['type'] == 'conv2d':\n",
    "            stride = m.get('stride', 1)\n",
    "        elif m['type'] == 'maxpool2d':\n",
    "            stride = m.get('stride', kernel_size)\n",
    "\n",
    "        output_size = compute_output_size(input_size, kernel_size, stride, padding, dilation)\n",
    "        print('{}: input_size:[{}] kernel_size[{}] stride[{}] padding[{}] dilation[{}] output_size:[{}]'.format(i+1, input_size, kernel_size, stride, padding, dilation, output_size))\n",
    "        \n",
    "        input_size = output_size"
   ]
  },
  {
   "cell_type": "code",
   "execution_count": 10,
   "metadata": {},
   "outputs": [],
   "source": [
    "def compute_output_size(input_size, kernel_size, stride, padding, dilation):\n",
    "    return ((input_size + 2*padding - dilation * (kernel_size - 1) - 1) / stride) + 1"
   ]
  },
  {
   "cell_type": "code",
   "execution_count": 11,
   "metadata": {},
   "outputs": [
    {
     "name": "stdout",
     "output_type": "stream",
     "text": [
      "1: input_size:[28] kernel_size[3] stride[1] padding[2] dilation[1] output_size:[30.0]\n",
      "2: input_size:[30.0] kernel_size[3] stride[1] padding[2] dilation[1] output_size:[32.0]\n",
      "3: input_size:[32.0] kernel_size[2] stride[2] padding[0] dilation[1] output_size:[16.0]\n"
     ]
    }
   ],
   "source": [
    "x = '[{\"type\":\"conv2d\", \"kernel_size\":3, \"padding\":2}, {\"type\":\"conv2d\", \"kernel_size\":3, \"padding\":2}, {\"type\":\"maxpool2d\", \"kernel_size\":2, \"stride\":2}]'\n",
    "y = json.loads(x)\n",
    "\n",
    "get_output_size(28, y)"
   ]
  },
  {
   "cell_type": "code",
   "execution_count": null,
   "metadata": {},
   "outputs": [],
   "source": []
  }
 ],
 "metadata": {
  "kernelspec": {
   "display_name": "Python 3",
   "language": "python",
   "name": "python3"
  },
  "language_info": {
   "codemirror_mode": {
    "name": "ipython",
    "version": 3
   },
   "file_extension": ".py",
   "mimetype": "text/x-python",
   "name": "python",
   "nbconvert_exporter": "python",
   "pygments_lexer": "ipython3",
   "version": "3.9.1"
  }
 },
 "nbformat": 4,
 "nbformat_minor": 4
}
