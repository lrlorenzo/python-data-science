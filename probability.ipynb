{
 "cells": [
  {
   "cell_type": "code",
   "execution_count": 47,
   "metadata": {},
   "outputs": [
    {
     "name": "stdout",
     "output_type": "stream",
     "text": [
      "[1 2 3 4 5 6]\n",
      "[[1]\n",
      " [2]\n",
      " [3]\n",
      " [4]\n",
      " [5]\n",
      " [6]]\n",
      "[[ 2  3  4  5  6  7]\n",
      " [ 3  4  5  6  7  8]\n",
      " [ 4  5  6  7  8  9]\n",
      " [ 5  6  7  8  9 10]\n",
      " [ 6  7  8  9 10 11]\n",
      " [ 7  8  9 10 11 12]]\n",
      "36\n",
      "Probability:18 / 36\n"
     ]
    }
   ],
   "source": [
    "#If two balanced dice are rolled, what is the probability that the sum of the two numbers that appear will be odd?\n",
    "import numpy as np\n",
    "\n",
    "dice1 = np.array([1,2,3,4,5,6])\n",
    "dice2 = np.array([1,2,3,4,5,6])[:, np.newaxis]\n",
    "print(dice1)\n",
    "print(dice2)\n",
    "sum_of_dice = dice1 + dice2\n",
    "print(sum_of_dice)\n",
    "odd_only = sum_of_dice[sum_of_dice % 2 == 1]\n",
    "x = np.lcm.reduce([odd_only.size, sum_of_dice.size])\n",
    "print(x)\n",
    "print(\"Probability:{} / {}\".format(odd_only.size, sum_of_dice.size))"
   ]
  },
  {
   "cell_type": "code",
   "execution_count": 18,
   "metadata": {},
   "outputs": [
    {
     "name": "stdout",
     "output_type": "stream",
     "text": [
      "[[0 1 2 3 4 5]\n",
      " [1 0 1 2 3 4]\n",
      " [2 1 0 1 2 3]\n",
      " [3 2 1 0 1 2]\n",
      " [4 3 2 1 0 1]\n",
      " [5 4 3 2 1 0]]\n",
      "[0 1 2 1 0 1 2 2 1 0 1 2 2 1 0 1 2 2 1 0 1 2 1 0]\n",
      "24\n",
      "72\n",
      "Probability:24 / 36\n"
     ]
    }
   ],
   "source": [
    "#If two balanced dice are rolled, what is the probability that the difference between the two numbers that appear will be less than 3?\n",
    "import numpy as np\n",
    "\n",
    "dice1 = np.array([1,2,3,4,5,6])\n",
    "dice2 = np.array([1,2,3,4,5,6])[:, np.newaxis]\n",
    "diff_of_dice = np.abs(dice1 - dice2)\n",
    "print(diff_of_dice)\n",
    "less_than_three = diff_of_dice[diff_of_dice < 3]\n",
    "print(less_than_three)\n",
    "print(less_than_three.size)\n",
    "x = np.lcm.reduce([less_than_three.size, diff_of_dice.size])\n",
    "print(x)\n",
    "print(\"Probability:{num} / {den}\".format(num=less_than_three.size, den=diff_of_dice.size))"
   ]
  },
  {
   "cell_type": "code",
   "execution_count": 22,
   "metadata": {},
   "outputs": [
    {
     "name": "stdout",
     "output_type": "stream",
     "text": [
      "[1, 2, 3, 1]\n"
     ]
    }
   ],
   "source": [
    "x = [1,2,3,-1]\n",
    "result = map(abs, x)\n",
    "print(list(result))"
   ]
  },
  {
   "cell_type": "code",
   "execution_count": 23,
   "metadata": {},
   "outputs": [
    {
     "name": "stdout",
     "output_type": "stream",
     "text": [
      "1\n",
      "2\n",
      "3\n",
      "4\n",
      "5\n",
      "6\n",
      "7\n",
      "8\n",
      "9\n"
     ]
    }
   ],
   "source": [
    "#A school contains students in grades 1, 2, 3, 4, 5, and 6. Grades 2, 3, 4, 5, and 6 all contain the same number of students, \n",
    "#but there are twice this number in grade 1. If a\n",
    "#student is selected at random from a list of all the students\n",
    "#in the school, what is the probability that she will be in\n",
    "#grade 3?\n",
    "\n",
    "students = [1,1,2,3,4,5,6]\n",
    "for i in range(1, 10):\n",
    "    print(i)\n"
   ]
  },
  {
   "cell_type": "code",
   "execution_count": 24,
   "metadata": {},
   "outputs": [
    {
     "name": "stdout",
     "output_type": "stream",
     "text": [
      "A\n"
     ]
    }
   ],
   "source": [
    "x = 'A'\n",
    "if x == 'A':\n",
    "    print(x)"
   ]
  },
  {
   "cell_type": "code",
   "execution_count": null,
   "metadata": {},
   "outputs": [],
   "source": []
  }
 ],
 "metadata": {
  "kernelspec": {
   "display_name": "Python 3",
   "language": "python",
   "name": "python3"
  },
  "language_info": {
   "codemirror_mode": {
    "name": "ipython",
    "version": 3
   },
   "file_extension": ".py",
   "mimetype": "text/x-python",
   "name": "python",
   "nbconvert_exporter": "python",
   "pygments_lexer": "ipython3",
   "version": "3.8.3"
  }
 },
 "nbformat": 4,
 "nbformat_minor": 4
}
