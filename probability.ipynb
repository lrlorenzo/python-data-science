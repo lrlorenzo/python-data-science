{
 "cells": [
  {
   "cell_type": "code",
   "execution_count": 47,
   "metadata": {},
   "outputs": [
    {
     "name": "stdout",
     "output_type": "stream",
     "text": [
      "[1 2 3 4 5 6]\n",
      "[[1]\n",
      " [2]\n",
      " [3]\n",
      " [4]\n",
      " [5]\n",
      " [6]]\n",
      "[[ 2  3  4  5  6  7]\n",
      " [ 3  4  5  6  7  8]\n",
      " [ 4  5  6  7  8  9]\n",
      " [ 5  6  7  8  9 10]\n",
      " [ 6  7  8  9 10 11]\n",
      " [ 7  8  9 10 11 12]]\n",
      "36\n",
      "Probability:18 / 36\n"
     ]
    }
   ],
   "source": [
    "#If two balanced dice are rolled, what is the probability that the sum of the two numbers that appear will be odd?\n",
    "import numpy as np\n",
    "\n",
    "dice1 = np.array([1,2,3,4,5,6])\n",
    "dice2 = np.array([1,2,3,4,5,6])[:, np.newaxis]\n",
    "print(dice1)\n",
    "print(dice2)\n",
    "sum_of_dice = dice1 + dice2\n",
    "print(sum_of_dice)\n",
    "odd_only = sum_of_dice[sum_of_dice % 2 == 1]\n",
    "x = np.lcm.reduce([odd_only.size, sum_of_dice.size])\n",
    "print(x)\n",
    "print(\"Probability:{} / {}\".format(odd_only.size, sum_of_dice.size))"
   ]
  },
  {
   "cell_type": "code",
   "execution_count": 57,
   "metadata": {},
   "outputs": [
    {
     "name": "stdout",
     "output_type": "stream",
     "text": [
      "<class 'zip'>\n",
      "(1, 1)\n",
      "(2, 2)\n",
      "(3, 3)\n",
      "(4, 4)\n",
      "(5, 5)\n",
      "(6, 6)\n",
      "[0 0 0 0 0 0]\n",
      "[0 0 0 0 0 0]\n",
      "6\n",
      "6\n",
      "Probability:6 / 6\n"
     ]
    }
   ],
   "source": [
    "#If two balanced dice are rolled, what is the probability that the difference between the two numbers that appear will be less than 3?\n",
    "dice1 = np.array([1,2,3,4,5,6])\n",
    "dice2 = np.array([1,2,3,4,5,6])\n",
    "combination = zip(dice1, dice2)\n",
    "print(type(combination))\n",
    "for item in combination:\n",
    "    print(item)\n",
    "diff_of_dice = dice1 - dice2\n",
    "print(diff_of_dice)\n",
    "less_than_three = diff_of_dice[diff_of_dice < 3]\n",
    "print(less_than_three)\n",
    "print(less_than_three.size)\n",
    "x = np.lcm.reduce([less_than_three.size, diff_of_dice.size])\n",
    "print(x)\n",
    "print(\"Probability:{num} / {den}\".format(num=less_than_three.size, den=diff_of_dice.size))"
   ]
  },
  {
   "cell_type": "code",
   "execution_count": null,
   "metadata": {},
   "outputs": [],
   "source": []
  },
  {
   "cell_type": "code",
   "execution_count": null,
   "metadata": {},
   "outputs": [],
   "source": []
  }
 ],
 "metadata": {
  "kernelspec": {
   "display_name": "Python 3",
   "language": "python",
   "name": "python3"
  },
  "language_info": {
   "codemirror_mode": {
    "name": "ipython",
    "version": 3
   },
   "file_extension": ".py",
   "mimetype": "text/x-python",
   "name": "python",
   "nbconvert_exporter": "python",
   "pygments_lexer": "ipython3",
   "version": "3.8.3"
  }
 },
 "nbformat": 4,
 "nbformat_minor": 4
}
