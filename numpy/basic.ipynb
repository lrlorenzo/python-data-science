{
 "cells": [
  {
   "cell_type": "markdown",
   "metadata": {},
   "source": [
    "# This is basic numpy arrays"
   ]
  },
  {
   "cell_type": "code",
   "execution_count": 1,
   "metadata": {},
   "outputs": [],
   "source": [
    "import numpy as np"
   ]
  },
  {
   "cell_type": "markdown",
   "metadata": {},
   "source": [
    "## Create a 2x2 matrix manually"
   ]
  },
  {
   "cell_type": "code",
   "execution_count": 17,
   "metadata": {},
   "outputs": [
    {
     "name": "stdout",
     "output_type": "stream",
     "text": [
      "Array: [[1 2]\n",
      " [3 4]]\n",
      "Shape: (2, 2)\n",
      "Dimension: 2\n",
      "Number of Elements in the array: 4\n"
     ]
    }
   ],
   "source": [
    "arr1 = np.array([[1,2], [3,4]])\n",
    "print('Array:', arr1)\n",
    "print('Shape:', arr1.shape)\n",
    "print('Dimension:', arr1.ndim)\n",
    "print('Number of Elements in the array:', arr1.size)"
   ]
  },
  {
   "cell_type": "markdown",
   "metadata": {},
   "source": [
    "## Create a 2x2 matrix using np.arange"
   ]
  },
  {
   "cell_type": "code",
   "execution_count": 18,
   "metadata": {},
   "outputs": [
    {
     "name": "stdout",
     "output_type": "stream",
     "text": [
      "Array: [[0 1]\n",
      " [2 3]]\n",
      "Shape: (2, 2)\n",
      "Dimension: 2\n",
      "Number of Elements in the array: 4\n"
     ]
    }
   ],
   "source": [
    "arr2 = np.arange(4).reshape(2,2)\n",
    "print('Array:', arr2)\n",
    "print('Shape:', arr2.shape)\n",
    "print('Dimension:', arr2.ndim)\n",
    "print('Number of Elements in the array:', arr2.size)"
   ]
  },
  {
   "cell_type": "markdown",
   "metadata": {},
   "source": [
    "## Create a 2x2 matrix with default zeros"
   ]
  },
  {
   "cell_type": "code",
   "execution_count": 23,
   "metadata": {},
   "outputs": [
    {
     "name": "stdout",
     "output_type": "stream",
     "text": [
      "Array: [[0. 0.]\n",
      " [0. 0.]]\n",
      "Shape: (2, 2)\n",
      "Dimension: 2\n",
      "Number of Elements in the array: 4\n"
     ]
    }
   ],
   "source": [
    "arr3 = np.zeros(shape=(2,2))\n",
    "print('Array:', arr3)\n",
    "print('Shape:', arr3.shape)\n",
    "print('Dimension:', arr3.ndim)\n",
    "print('Number of Elements in the array:', arr3.size)"
   ]
  },
  {
   "cell_type": "markdown",
   "metadata": {},
   "source": [
    "## Create a 2x2 matrix with default ones"
   ]
  },
  {
   "cell_type": "code",
   "execution_count": 24,
   "metadata": {},
   "outputs": [
    {
     "name": "stdout",
     "output_type": "stream",
     "text": [
      "Array: [[1. 1.]\n",
      " [1. 1.]]\n",
      "Shape: (2, 2)\n",
      "Dimension: 2\n",
      "Number of Elements in the array: 4\n"
     ]
    }
   ],
   "source": [
    "arr4 = np.ones(shape=(2,2))\n",
    "print('Array:', arr4)\n",
    "print('Shape:', arr4.shape)\n",
    "print('Dimension:', arr4.ndim)\n",
    "print('Number of Elements in the array:', arr4.size)"
   ]
  },
  {
   "cell_type": "markdown",
   "metadata": {},
   "source": [
    "## Basic Operations"
   ]
  },
  {
   "cell_type": "code",
   "execution_count": 30,
   "metadata": {},
   "outputs": [
    {
     "name": "stdout",
     "output_type": "stream",
     "text": [
      "Original Array: [[0 1]\n",
      " [2 3]]\n",
      "Add 2 [[3 4]\n",
      " [5 6]]\n",
      "Subtract 2 [[-1  0]\n",
      " [ 1  2]]\n",
      "Multiply by 2 [[2 4]\n",
      " [6 8]]\n",
      "Divide by 2 [[0.5 1. ]\n",
      " [1.5 2. ]]\n"
     ]
    }
   ],
   "source": [
    "print('Original Array:', arr)\n",
    "print('Add 2', arr1 + 2)\n",
    "print('Subtract 2', arr1 - 2)\n",
    "print('Multiply by 2', arr1 * 2)\n",
    "print('Divide by 2', arr1 / 2)"
   ]
  },
  {
   "cell_type": "markdown",
   "metadata": {},
   "source": [
    "## Matrix Operation"
   ]
  },
  {
   "cell_type": "code",
   "execution_count": 35,
   "metadata": {},
   "outputs": [
    {
     "name": "stdout",
     "output_type": "stream",
     "text": [
      "Array 1:\n",
      " [[1 2]\n",
      " [3 4]]\n",
      "Array 2:\n",
      " [[0 1]\n",
      " [2 3]]\n",
      "Dot Matrix(@)\n",
      " [[ 4  7]\n",
      " [ 8 15]]\n",
      "Dot Matrix(dot)\n",
      " [[ 4  7]\n",
      " [ 8 15]]\n"
     ]
    }
   ],
   "source": [
    "print('Array 1:\\n', arr1)\n",
    "print('Array 2:\\n', arr2)\n",
    "print('Dot Matrix(@)\\n', arr1 @ arr2)\n",
    "print('Dot Matrix(dot)\\n', arr1.dot(arr2))"
   ]
  },
  {
   "cell_type": "markdown",
   "metadata": {},
   "source": [
    "## Sum, Min, Max"
   ]
  },
  {
   "cell_type": "code",
   "execution_count": 38,
   "metadata": {},
   "outputs": [
    {
     "name": "stdout",
     "output_type": "stream",
     "text": [
      "Array 1: [[1 2]\n",
      " [3 4]]\n",
      "Sum: 10\n",
      "Sum: 1\n",
      "Sum: 4\n"
     ]
    }
   ],
   "source": [
    "print('Array 1:', arr1)\n",
    "print('Sum:', arr1.sum())\n",
    "print('Sum:', arr1.min())\n",
    "print('Sum:', arr1.max())"
   ]
  },
  {
   "cell_type": "markdown",
   "metadata": {},
   "source": [
    "## Sum, Min, Max per column"
   ]
  },
  {
   "cell_type": "code",
   "execution_count": 41,
   "metadata": {},
   "outputs": [
    {
     "name": "stdout",
     "output_type": "stream",
     "text": [
      "Array 1: [[1 2]\n",
      " [3 4]]\n",
      "Sum: [4 6]\n",
      "Sum: [1 2]\n",
      "Sum: [3 4]\n"
     ]
    }
   ],
   "source": [
    "print('Array 1:', arr1)\n",
    "print('Sum:', arr1.sum(axis=0))\n",
    "print('Sum:', arr1.min(axis=0))\n",
    "print('Sum:', arr1.max(axis=0))"
   ]
  },
  {
   "cell_type": "markdown",
   "metadata": {},
   "source": [
    "## Sum, Min, Max per row"
   ]
  },
  {
   "cell_type": "code",
   "execution_count": 43,
   "metadata": {},
   "outputs": [
    {
     "name": "stdout",
     "output_type": "stream",
     "text": [
      "Array 1: [[1 2]\n",
      " [3 4]]\n",
      "Sum: [3 7]\n",
      "Sum: [1 3]\n",
      "Sum: [2 4]\n"
     ]
    }
   ],
   "source": [
    "print('Array 1:', arr1)\n",
    "print('Sum:', arr1.sum(axis=1))\n",
    "print('Sum:', arr1.min(axis=1))\n",
    "print('Sum:', arr1.max(axis=1))"
   ]
  },
  {
   "cell_type": "code",
   "execution_count": null,
   "metadata": {},
   "outputs": [],
   "source": []
  }
 ],
 "metadata": {
  "kernelspec": {
   "display_name": "Python 3",
   "language": "python",
   "name": "python3"
  },
  "language_info": {
   "codemirror_mode": {
    "name": "ipython",
    "version": 3
   },
   "file_extension": ".py",
   "mimetype": "text/x-python",
   "name": "python",
   "nbconvert_exporter": "python",
   "pygments_lexer": "ipython3",
   "version": "3.8.3"
  }
 },
 "nbformat": 4,
 "nbformat_minor": 4
}
