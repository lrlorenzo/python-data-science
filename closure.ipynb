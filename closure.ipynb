{
 "cells": [
  {
   "cell_type": "code",
   "execution_count": 17,
   "metadata": {},
   "outputs": [],
   "source": [
    "def outer(x):\n",
    "    y = 1\n",
    "    z = 2\n",
    "    def inner():\n",
    "        print(\"{}====={}===={}\".format(x, y, z))\n",
    "    return inner\n"
   ]
  },
  {
   "cell_type": "code",
   "execution_count": 18,
   "metadata": {},
   "outputs": [],
   "source": [
    "x = outer(2)"
   ]
  },
  {
   "cell_type": "code",
   "execution_count": 19,
   "metadata": {},
   "outputs": [
    {
     "name": "stdout",
     "output_type": "stream",
     "text": [
      "2=====1====2\n"
     ]
    },
    {
     "data": {
      "text/plain": [
       "(<cell at 0x000001E1265C6760: int object at 0x00007FFBD7AB2740>,\n",
       " <cell at 0x000001E1265C67F0: int object at 0x00007FFBD7AB2720>,\n",
       " <cell at 0x000001E1265C6880: int object at 0x00007FFBD7AB2740>)"
      ]
     },
     "execution_count": 19,
     "metadata": {},
     "output_type": "execute_result"
    }
   ],
   "source": [
    "x()\n",
    "x.__closure__"
   ]
  },
  {
   "cell_type": "code",
   "execution_count": null,
   "metadata": {},
   "outputs": [],
   "source": []
  }
 ],
 "metadata": {
  "kernelspec": {
   "display_name": "Python 3",
   "language": "python",
   "name": "python3"
  },
  "language_info": {
   "codemirror_mode": {
    "name": "ipython",
    "version": 3
   },
   "file_extension": ".py",
   "mimetype": "text/x-python",
   "name": "python",
   "nbconvert_exporter": "python",
   "pygments_lexer": "ipython3",
   "version": "3.8.3"
  }
 },
 "nbformat": 4,
 "nbformat_minor": 4
}
